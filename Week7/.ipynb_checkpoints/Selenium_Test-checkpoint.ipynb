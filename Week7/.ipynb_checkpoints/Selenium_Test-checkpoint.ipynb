{
 "cells": [
  {
   "cell_type": "markdown",
   "id": "52e76d5b",
   "metadata": {},
   "source": [
    "# Test Selenium Chrome Driver\n",
    "\n",
    "Ref: https://medium.com/@srujana.rao2/scraping-instagram-with-python-using-selenium-and-beautiful-soup-8b72c186a058"
   ]
  },
  {
   "cell_type": "code",
   "execution_count": 1,
   "id": "c59a0134",
   "metadata": {},
   "outputs": [],
   "source": [
    "# Import dependencies\n",
    "from selenium import webdriver\n",
    "from selenium.webdriver.chrome.options import Options\n",
    "from bs4 import BeautifulSoup as bs\n",
    "import time\n",
    "import re\n",
    "from urllib.request import urlopen\n",
    "import json\n",
    "from pandas.io.json import json_normalize\n",
    "import pandas as pd, numpy as np"
   ]
  },
  {
   "cell_type": "code",
   "execution_count": 8,
   "id": "c85308df",
   "metadata": {},
   "outputs": [
    {
     "name": "stderr",
     "output_type": "stream",
     "text": [
      "C:\\Users\\User\\AppData\\Local\\Temp/ipykernel_13056/495922339.py:6: DeprecationWarning: executable_path has been deprecated, please pass in a Service object\n",
      "  browser = webdriver.Chrome(\"C:\\chrome\\chromedriver.exe\")\n"
     ]
    }
   ],
   "source": [
    "# Open the web browser\n",
    "# Selenium uses Chrome Drive to open the profile given a username (public user).\n",
    "# For example -\n",
    "\n",
    "username='davidbeckham'\n",
    "browser = webdriver.Chrome(\"C:\\chrome\\chromedriver.exe\")\n",
    "browser.get('https://www.instagram.com/'+username+'/?hl=en')\n",
    "Pagelength = browser.execute_script(\"window.scrollTo(0, document.body.scrollHeight);\")"
   ]
  },
  {
   "cell_type": "code",
   "execution_count": 10,
   "id": "84cf521a",
   "metadata": {},
   "outputs": [
    {
     "name": "stderr",
     "output_type": "stream",
     "text": [
      "C:\\Users\\User\\AppData\\Local\\Temp/ipykernel_13056/1406709357.py:3: DeprecationWarning: executable_path has been deprecated, please pass in a Service object\n",
      "  browser = webdriver.Chrome(\"C:\\chrome\\chromedriver.exe\")\n"
     ]
    }
   ],
   "source": [
    "# If you want to open a hashtag page\n",
    "hashtag='food'\n",
    "browser = webdriver.Chrome(\"C:\\chrome\\chromedriver.exe\")\n",
    "browser.get('https://www.instagram.com/explore/tags/'+hashtag)\n",
    "Pagelength = browser.execute_script(\"window.scrollTo(0, document.body.scrollHeight);\")"
   ]
  },
  {
   "cell_type": "code",
   "execution_count": 13,
   "id": "3ee9f1f7",
   "metadata": {},
   "outputs": [
    {
     "name": "stderr",
     "output_type": "stream",
     "text": [
      "C:\\Users\\User\\AppData\\Local\\Temp/ipykernel_13056/2496632685.py:3: DeprecationWarning: executable_path has been deprecated, please pass in a Service object\n",
      "  driver = webdriver.Chrome(\"C:\\chrome\\chromedriver.exe\")\n",
      "C:\\Users\\User\\AppData\\Local\\Temp/ipykernel_13056/2496632685.py:5: DeprecationWarning: find_elements_by_class_name is deprecated. Please use find_elements(by=By.CLASS_NAME, value=name) instead\n",
      "  headlines = driver.find_elements_by_class_name(\"headline\")\n"
     ]
    },
    {
     "name": "stdout",
     "output_type": "stream",
     "text": [
      "Moon to Mars\n",
      "NASA Studies ‘New’ 50-Year-Old Lunar Sample to Prep for Return to Moon\n",
      "Artemis\n",
      "Send Your Name to Space With Artemis I\n",
      "Podcasts\n",
      "Gravity Assist: Using Webb to Trace Galactic Histories, with Aaron Yung\n",
      "Pioneers to New Frontiers: NASA Women Through the Decades\n",
      "Europa Clipper\n",
      "NASA Begins Assembly of Europa Clipper Spacecraft\n",
      "Commercial Crew\n",
      "NASA Invites Media to Next SpaceX Commercial Crew Space Station Launch\n",
      "Image of the Day\n",
      "Nancy Grace Roman: First Chief Astronomer\n",
      "Artemis I Rocket Gets Closer to Rollout\n",
      "GOES\n",
      "NASA, ULA Launch NOAA’s Newest Earth Observing Satellite\n",
      "NuSTAR\n",
      "NASA’s NuSTAR Makes Illuminating Discoveries With ‘Nuisance’ Light\n"
     ]
    }
   ],
   "source": [
    "# Go to NASA's main page and retrieve all headlines\n",
    "\n",
    "driver = webdriver.Chrome(\"C:\\chrome\\chromedriver.exe\")\n",
    "driver.get('https://www.nasa.gov')\n",
    "headlines = driver.find_elements_by_class_name(\"headline\")\n",
    "for headline in headlines:\n",
    "    print(headline.text.strip())\n",
    "# driver.close()"
   ]
  }
 ],
 "metadata": {
  "kernelspec": {
   "display_name": "Python 3 (ipykernel)",
   "language": "python",
   "name": "python3"
  },
  "language_info": {
   "codemirror_mode": {
    "name": "ipython",
    "version": 3
   },
   "file_extension": ".py",
   "mimetype": "text/x-python",
   "name": "python",
   "nbconvert_exporter": "python",
   "pygments_lexer": "ipython3",
   "version": "3.9.7"
  }
 },
 "nbformat": 4,
 "nbformat_minor": 5
}
